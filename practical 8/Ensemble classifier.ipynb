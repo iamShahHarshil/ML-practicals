{
 "cells": [
  {
   "cell_type": "code",
   "execution_count": 1,
   "metadata": {},
   "outputs": [],
   "source": [
    "import numpy as np\n",
    "import matplotlib.pyplot as mtp  \n",
    "import pandas as pd  \n",
    "from sklearn.model_selection import train_test_split  \n",
    "from sklearn.ensemble import RandomForestClassifier  \n",
    "from sklearn.metrics import confusion_matrix,ConfusionMatrixDisplay"
   ]
  },
  {
   "cell_type": "code",
   "execution_count": 2,
   "metadata": {},
   "outputs": [],
   "source": [
    "data= pd.read_csv('insurance_data.csv')"
   ]
  },
  {
   "cell_type": "code",
   "execution_count": 3,
   "metadata": {},
   "outputs": [
    {
     "name": "stdout",
     "output_type": "stream",
     "text": [
      "    age  bought_insurance\n",
      "0    22                 0\n",
      "1    25                 0\n",
      "2    47                 1\n",
      "3    52                 0\n",
      "4    46                 1\n",
      "5    56                 1\n",
      "6    55                 0\n",
      "7    60                 1\n",
      "8    62                 1\n",
      "9    61                 1\n",
      "10   18                 0\n",
      "11   28                 0\n",
      "12   27                 0\n",
      "13   29                 0\n",
      "14   49                 1\n",
      "15   55                 1\n",
      "16   25                 1\n",
      "17   58                 1\n",
      "18   19                 0\n",
      "19   18                 0\n",
      "20   21                 0\n",
      "21   26                 0\n",
      "22   40                 1\n",
      "23   45                 1\n",
      "24   50                 1\n",
      "25   54                 1\n",
      "26   23                 0\n"
     ]
    }
   ],
   "source": [
    "print(data)"
   ]
  },
  {
   "cell_type": "code",
   "execution_count": 4,
   "metadata": {},
   "outputs": [
    {
     "name": "stdout",
     "output_type": "stream",
     "text": [
      "[[22]\n",
      " [25]\n",
      " [47]\n",
      " [52]\n",
      " [46]\n",
      " [56]\n",
      " [55]\n",
      " [60]\n",
      " [62]\n",
      " [61]\n",
      " [18]\n",
      " [28]\n",
      " [27]\n",
      " [29]\n",
      " [49]\n",
      " [55]\n",
      " [25]\n",
      " [58]\n",
      " [19]\n",
      " [18]\n",
      " [21]\n",
      " [26]\n",
      " [40]\n",
      " [45]\n",
      " [50]\n",
      " [54]\n",
      " [23]]\n",
      "[0 0 1 0 1 1 0 1 1 1 0 0 0 0 1 1 1 1 0 0 0 0 1 1 1 1 0]\n"
     ]
    }
   ],
   "source": [
    "x= data.iloc[:, [0]].values  \n",
    "y= data.iloc[:, 1].values\n",
    "print(x)\n",
    "print(y)"
   ]
  },
  {
   "cell_type": "code",
   "execution_count": 5,
   "metadata": {},
   "outputs": [
    {
     "name": "stdout",
     "output_type": "stream",
     "text": [
      "[[55]\n",
      " [21]\n",
      " [45]\n",
      " [46]\n",
      " [22]\n",
      " [61]\n",
      " [25]\n",
      " [52]\n",
      " [47]\n",
      " [26]\n",
      " [28]\n",
      " [62]\n",
      " [19]\n",
      " [55]\n",
      " [49]\n",
      " [50]\n",
      " [54]\n",
      " [27]]\n",
      "[1 0 1 1 0 1 1 0 1 0 0 1 0 0 1 1 1 0]\n",
      "[[29]\n",
      " [23]\n",
      " [18]\n",
      " [40]\n",
      " [60]\n",
      " [56]\n",
      " [18]\n",
      " [58]\n",
      " [25]]\n",
      "[0 0 0 1 1 1 0 1 0]\n"
     ]
    }
   ],
   "source": [
    "x_train, x_test, y_train, y_test= train_test_split(x, y, test_size= 0.3)  \n",
    "print(x_train)\n",
    "print(y_train)\n",
    "print(x_test)\n",
    "print(y_test)"
   ]
  },
  {
   "cell_type": "code",
   "execution_count": 6,
   "metadata": {},
   "outputs": [
    {
     "data": {
      "text/plain": [
       "RandomForestClassifier(criterion='entropy', n_estimators=15)"
      ]
     },
     "execution_count": 6,
     "metadata": {},
     "output_type": "execute_result"
    }
   ],
   "source": [
    "classifier= RandomForestClassifier(n_estimators= 15, criterion=\"entropy\")  \n",
    "classifier.fit(x_train, y_train)"
   ]
  },
  {
   "cell_type": "code",
   "execution_count": 7,
   "metadata": {},
   "outputs": [
    {
     "name": "stdout",
     "output_type": "stream",
     "text": [
      "[0 0 0 1 1 0 0 0 1]\n"
     ]
    }
   ],
   "source": [
    "y_pred= classifier.predict(x_test)  \n",
    "print(y_pred)"
   ]
  },
  {
   "cell_type": "code",
   "execution_count": 8,
   "metadata": {},
   "outputs": [
    {
     "data": {
      "text/plain": [
       "array([1], dtype=int64)"
      ]
     },
     "execution_count": 8,
     "metadata": {},
     "output_type": "execute_result"
    }
   ],
   "source": [
    "classifier.predict([[40]])"
   ]
  },
  {
   "cell_type": "code",
   "execution_count": 9,
   "metadata": {},
   "outputs": [
    {
     "name": "stdout",
     "output_type": "stream",
     "text": [
      "[[4 1]\n",
      " [2 2]]\n"
     ]
    },
    {
     "data": {
      "image/png": "[encoded data removed]",
      "text/plain": [
       "<Figure size 432x288 with 2 Axes>"
      ]
     },
     "metadata": {
      "needs_background": "light"
     },
     "output_type": "display_data"
    }
   ],
   "source": [
    "cm= confusion_matrix(y_test, y_pred)  \n",
    "print(cm)\n",
    "cm_display=ConfusionMatrixDisplay(cm).plot()"
   ]
  },
  {
   "cell_type": "code",
   "execution_count": null,
   "metadata": {},
   "outputs": [],
   "source": []
  }
 ],
 "metadata": {
  "kernelspec": {
   "display_name": "Python 3",
   "language": "python",
   "name": "python3"
  },
  "language_info": {
   "codemirror_mode": {
    "name": "ipython",
    "version": 3
   },
   "file_extension": ".py",
   "mimetype": "text/x-python",
   "name": "python",
   "nbconvert_exporter": "python",
   "pygments_lexer": "ipython3",
   "version": "3.8.5"
  }
 },
 "nbformat": 4,
 "nbformat_minor": 4
}
