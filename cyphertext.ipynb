{
 "cells": [
  {
   "cell_type": "markdown",
   "metadata": {},
   "source": [
    "## CYPHERTEXT CNS PRACTICAL"
   ]
  },
  {
   "cell_type": "code",
   "execution_count": 49,
   "metadata": {},
   "outputs": [
    {
     "name": "stdout",
     "output_type": "stream",
     "text": [
      "|\n"
     ]
    }
   ],
   "source": [
    "print(chr(124))"
   ]
  },
  {
   "cell_type": "code",
   "execution_count": 21,
   "metadata": {},
   "outputs": [
    {
     "name": "stdout",
     "output_type": "stream",
     "text": [
      "b\n"
     ]
    }
   ],
   "source": [
    "ch = 98\n",
    "print(chr(ch))"
   ]
  },
  {
   "cell_type": "code",
   "execution_count": 43,
   "metadata": {},
   "outputs": [
    {
     "name": "stdout",
     "output_type": "stream",
     "text": [
      "89\n"
     ]
    }
   ],
   "source": [
    "a=ord('Y')\n",
    "print(a)"
   ]
  },
  {
   "cell_type": "code",
   "execution_count": 23,
   "metadata": {},
   "outputs": [
    {
     "name": "stdout",
     "output_type": "stream",
     "text": [
      "Enter text:  harshil shah is good\n",
      "harshil shah is good\n"
     ]
    }
   ],
   "source": [
    "arr2 = np.arange(100)\n",
    "arr2 = input(\"Enter text:  \")\n",
    "print(arr2)"
   ]
  },
  {
   "cell_type": "code",
   "execution_count": 27,
   "metadata": {},
   "outputs": [
    {
     "name": "stdout",
     "output_type": "stream",
     "text": [
      "Enter text: Harshil Shah is good\n",
      "Harshil Shah is good\n"
     ]
    }
   ],
   "source": [
    "list1 = []\n",
    "list1 = input(\"Enter text: \")\n",
    "print(list1)"
   ]
  },
  {
   "cell_type": "code",
   "execution_count": 44,
   "metadata": {},
   "outputs": [
    {
     "name": "stdout",
     "output_type": "stream",
     "text": [
      "[]\n"
     ]
    }
   ],
   "source": [
    "print(arr2)"
   ]
  },
  {
   "cell_type": "code",
   "execution_count": 48,
   "metadata": {},
   "outputs": [
    {
     "name": "stdout",
     "output_type": "stream",
     "text": [
      "Enter text: HARSHIL\n",
      "Enter key value: 3\n",
      "Encrypted message is:KDUVKLO"
     ]
    }
   ],
   "source": [
    "arr1=[] \n",
    "arr2=[] \n",
    "arr1 = input(\"Enter text: \") \n",
    "key = input(\"Enter key value: \") \n",
    "key = int(key)\n",
    "\n",
    "\"\"\" arr2= np.array(range(0,100)) \n",
    "print(type(arr1)) \n",
    "print(type(arr2)) \n",
    "print(arr1.ndim,'\\n',arr2.ndim) \"\"\"\n",
    "\n",
    "for i in range(len(arr1)):\n",
    "    ch = arr1[i]\n",
    "\n",
    "    if ord(ch) >= ord('a') and ord(ch) <= ord('z'):\n",
    "        ch = ord(ch) + key\n",
    "\n",
    "        if ch > ord('z'):\n",
    "            ch = ch - ord('z') + ord('a') - 1\n",
    "        ch = chr(ch)\n",
    "        arr2.append(ch)\n",
    "\n",
    "\n",
    "    elif ord(ch) >= ord('A') and ord(ch) <= ord('Z'):\n",
    "        ch = ord(ch) + key\n",
    "\n",
    "        if ch > ord('Z'):\n",
    "            ch = ch - ord('Z') + ord('A') - 1\n",
    "        ch = chr(ch)\n",
    "        arr2.append(ch)\n",
    "        \n",
    "print('Encrypted message is:',*arr2,sep=\"\" , end='')"
   ]
  },
  {
   "cell_type": "code",
   "execution_count": null,
   "metadata": {},
   "outputs": [],
   "source": []
  }
 ],
 "metadata": {
  "kernelspec": {
   "display_name": "Python 3",
   "language": "python",
   "name": "python3"
  },
  "language_info": {
   "codemirror_mode": {
    "name": "ipython",
    "version": 3
   },
   "file_extension": ".py",
   "mimetype": "text/x-python",
   "name": "python",
   "nbconvert_exporter": "python",
   "pygments_lexer": "ipython3",
   "version": "3.8.3"
  }
 },
 "nbformat": 4,
 "nbformat_minor": 4
}
